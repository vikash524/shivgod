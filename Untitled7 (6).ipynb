{
  "nbformat": 4,
  "nbformat_minor": 0,
  "metadata": {
    "colab": {
      "provenance": []
    },
    "kernelspec": {
      "name": "python3",
      "display_name": "Python 3"
    },
    "language_info": {
      "name": "python"
    }
  },
  "cells": [
    {
      "cell_type": "code",
      "source": [
        "import numpy as np\n",
        "from scipy import stats\n",
        "\n",
        "# Q1. What are the three measures of central tendency?\n",
        "\"\"\"\n",
        "The three measures of central tendency are:\n",
        "1. Mean\n",
        "2. Median\n",
        "3. Mode\n",
        "\"\"\"\n",
        "\n",
        "# Q2. What is the difference between the mean, median, and mode? How are they used to measure the central tendency of a dataset?\n",
        "\"\"\"\n",
        "- Mean: The mean is the average of a dataset calculated by summing all values and dividing by the total number of values.\n",
        "- Median: The median is the middle value of a dataset when the values are arranged in ascending order. It divides the dataset into two equal parts.\n",
        "- Mode: The mode is the value that appears most frequently in a dataset.\n",
        "\n",
        "These measures are used to understand the typical or central value of a dataset. The mean is sensitive to outliers, while the median is less affected by extreme values. The mode represents the most common value.\n",
        "\"\"\"\n",
        "\n",
        "# Q3. Measure the three measures of central tendency for the given height data:\n",
        "height_data = [178,177,176,177,178.2,178,175,179,180,175,178.9,176.2,177,172.5,178,176.5]\n",
        "mean_height = np.mean(height_data)\n",
        "median_height = np.median(height_data)\n",
        "mode_height = float(stats.mode(height_data)[0])\n",
        "\n",
        "print(\"Mean Height:\", mean_height)\n",
        "print(\"Median Height:\", median_height)\n",
        "print(\"Mode Height:\", mode_height)\n",
        "\n",
        "# Q4. Find the standard deviation for the given data:\n",
        "std_deviation = np.std(height_data)\n",
        "print(\"Standard Deviation:\", std_deviation)\n",
        "\n",
        "# Q5. How are measures of dispersion such as range, variance, and standard deviation used to describe the spread of a dataset? Provide an example.\n",
        "\"\"\"\n",
        "Measures of dispersion quantify the spread or variability of a dataset around its central tendency.\n",
        "- Range: The difference between the maximum and minimum values.\n",
        "- Variance: The average of the squared differences from the mean.\n",
        "- Standard Deviation: The square root of the variance.\n",
        "\n",
        "Example:\n",
        "Consider a dataset of exam scores. A small standard deviation indicates that most scores are close to the mean, while a large standard deviation suggests that scores are more spread out across the range.\n",
        "\"\"\"\n",
        "\n",
        "# Q6. What is a Venn diagram?\n",
        "\"\"\"\n",
        "A Venn diagram is a graphical representation used to visualize the relationships between different sets. It consists of overlapping circles or other shapes, with each circle representing a set and the overlap representing the intersection between sets.\n",
        "\"\"\"\n",
        "\n",
        "# Q7. For the two given sets A = (2,3,4,5,6,7) & B = (0,2,6,8,10). Find:\n",
        "A = set([2,3,4,5,6,7])\n",
        "B = set([0,2,6,8,10])\n",
        "\n",
        "# (i) A ∩ B (Intersection)\n",
        "intersection = A.intersection(B)\n",
        "print(\"Intersection of A and B:\", intersection)\n",
        "\n",
        "# (ii) A ⋃ B (Union)\n",
        "union = A.union(B)\n",
        "print(\"Union of A and B:\", union)\n",
        "\n",
        "# Q8. What do you understand about skewness in data?\n",
        "\"\"\"\n",
        "Skewness is a measure of the asymmetry of the distribution of values in a dataset. If the distribution is skewed, it means that the tail of the distribution is longer on one side than the other. Skewness can be positive (right-skewed), negative (left-skewed), or zero (symmetric).\n",
        "\"\"\"\n",
        "\n",
        "# Q9. If a data is right skewed then what will be the position of median with respect to mean?\n",
        "\"\"\"\n",
        "If a data is right-skewed, the median will be less than the mean. This is because the skewness pulls the mean in the direction of the longer tail, resulting in a higher mean compared to the median.\n",
        "\"\"\"\n",
        "\n",
        "# Q10. Explain the difference between covariance and correlation. How are these measures used in statistical analysis?\n",
        "\"\"\"\n",
        "Covariance measures the degree to which two variables change together, whereas correlation measures the strength and direction of the linear relationship between two variables. Covariance is not standardized, while correlation is standardized to range between -1 and 1.\n",
        "\n",
        "These measures are used to understand the relationship between variables in statistical analysis.\n",
        "\"\"\"\n",
        "\n",
        "# Q11. What is the formula for calculating the sample mean? Provide an example calculation for a dataset.\n",
        "\"\"\"\n",
        "The formula for calculating the sample mean (x̄) is:\n",
        "x̄ = Σx / n\n",
        "where Σx is the sum of all values and n is the number of values.\n",
        "\n",
        "Example:\n",
        "Consider a dataset [10, 15, 20, 25, 30]. The sample mean is calculated as:\n",
        "x̄ = (10 + 15 + 20 + 25 + 30) / 5 = 100 / 5 = 20\n",
        "\"\"\"\n",
        "\n",
        "# Q12. For a normal distribution data what is the relationship between its measure of central tendency?\n",
        "\"\"\"\n",
        "For a normal distribution:\n",
        "- The mean, median, and mode are equal.\n",
        "- The distribution is symmetric, and the mean is located at the center of the distribution.\n",
        "\"\"\"\n",
        "\n",
        "# Q13. How is covariance different from correlation?\n",
        "\"\"\"\n",
        "Covariance measures the degree to which two variables change together, whereas correlation measures the strength and direction of the linear relationship between two variables. Covariance is not standardized, while correlation is standardized to range between -1 and 1.\n",
        "\"\"\"\n",
        "\n",
        "# Q14. How do outliers affect measures of central tendency and dispersion? Provide an example.\n",
        "\"\"\"\n",
        "Outliers can significantly affect measures of central tendency and dispersion. For example, a single extremely high or low value can substantially alter the mean, making it less representative of the dataset. Similarly, outliers can inflate measures of dispersion such as variance and standard deviation, as they increase the variability within the dataset.\n",
        "\"\"\"\n"
      ],
      "metadata": {
        "colab": {
          "base_uri": "https://localhost:8080/",
          "height": 174
        },
        "id": "YfECib7IXL9x",
        "outputId": "a65d60c9-9f4d-4c27-8669-161d47095cbb"
      },
      "execution_count": 13,
      "outputs": [
        {
          "output_type": "stream",
          "name": "stdout",
          "text": [
            "Mean Height: 177.01875\n",
            "Median Height: 177.0\n",
            "Mode Height: 177.0\n",
            "Standard Deviation: 1.7885814036548633\n",
            "Intersection of A and B: {2, 6}\n",
            "Union of A and B: {0, 2, 3, 4, 5, 6, 7, 8, 10}\n"
          ]
        },
        {
          "output_type": "execute_result",
          "data": {
            "text/plain": [
              "'\\nOutliers can significantly affect measures of central tendency and dispersion. For example, a single extremely high or low value can substantially alter the mean, making it less representative of the dataset. Similarly, outliers can inflate measures of dispersion such as variance and standard deviation, as they increase the variability within the dataset.\\n'"
            ],
            "application/vnd.google.colaboratory.intrinsic+json": {
              "type": "string"
            }
          },
          "metadata": {},
          "execution_count": 13
        }
      ]
    },
    {
      "cell_type": "code",
      "source": [],
      "metadata": {
        "id": "mjL3NxWSXXd7"
      },
      "execution_count": null,
      "outputs": []
    }
  ]
}