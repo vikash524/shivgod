{
  "nbformat": 4,
  "nbformat_minor": 0,
  "metadata": {
    "colab": {
      "provenance": []
    },
    "kernelspec": {
      "name": "python3",
      "display_name": "Python 3"
    },
    "language_info": {
      "name": "python"
    }
  },
  "cells": [
    {
      "cell_type": "code",
      "source": [
        "import numpy as np\n",
        "import matplotlib.pyplot as plt\n",
        "from scipy.stats import norm, binom, poisson\n",
        "\n",
        "# Q1. What is the Probability density function?\n",
        "\"\"\"\n",
        "The probability density function (PDF) describes the likelihood of a continuous random variable taking on a specific value or falling within a range of values. It represents the relative likelihood of different outcomes in a continuous probability distribution.\n",
        "\"\"\"\n",
        "\n",
        "# Q2. What are the types of Probability distribution?\n",
        "\"\"\"\n",
        "Some common types of probability distributions include:\n",
        "1. Normal distribution\n",
        "2. Binomial distribution\n",
        "3. Poisson distribution\n",
        "4. Exponential distribution\n",
        "5. Uniform distribution\n",
        "6. Chi-square distribution\n",
        "7. Gamma distribution\n",
        "8. Log-normal distribution\n",
        "\"\"\"\n",
        "\n",
        "# Q3. Write a Python function to calculate the probability density function of a normal distribution with given mean and standard deviation at a given point.\n",
        "def pdf_normal_distribution(x, mean, std_dev):\n",
        "    return norm.pdf(x, mean, std_dev)\n",
        "\n",
        "# Q4. What are the properties of Binomial distribution? Give two examples of events where binomial distribution can be applied.\n",
        "\"\"\"\n",
        "Properties of Binomial distribution:\n",
        "- It represents the number of successes in a fixed number of independent Bernoulli trials.\n",
        "- Each trial has two possible outcomes: success or failure.\n",
        "- The probability of success (p) remains constant for each trial.\n",
        "- The trials are independent of each other.\n",
        "\n",
        "Examples:\n",
        "1. Coin flipping: The number of heads obtained in a fixed number of coin flips.\n",
        "2. Pass/fail experiments: The number of students passing an exam out of a fixed number of attempts.\n",
        "\"\"\"\n",
        "\n",
        "# Q5. Generate a random sample of size 1000 from a binomial distribution with probability of success 0.4 and plot a histogram of the results using matplotlib.\n",
        "sample_binomial = np.random.binomial(n=1, p=0.4, size=1000)\n",
        "plt.hist(sample_binomial, bins=2, density=True)\n",
        "plt.title('Binomial Distribution (n=1, p=0.4)')\n",
        "plt.xlabel('Outcome')\n",
        "plt.ylabel('Probability')\n",
        "plt.show()\n",
        "\n",
        "# Q6. Write a Python function to calculate the cumulative distribution function of a Poisson distribution with given mean at a given point.\n",
        "def cdf_poisson_distribution(k, mean):\n",
        "    return poisson.cdf(k, mean)\n",
        "\n",
        "# Q7. How Binomial distribution different from Poisson distribution?\n",
        "\"\"\"\n",
        "Binomial distribution:\n",
        "- Represents the number of successes in a fixed number of independent Bernoulli trials.\n",
        "- Requires the number of trials (n) and the probability of success (p).\n",
        "\n",
        "Poisson distribution:\n",
        "- Represents the number of events occurring in a fixed interval of time or space.\n",
        "- Only requires the mean rate of occurrence (λ) and applies to rare events occurring in a large population.\n",
        "\n",
        "While both distributions involve counting events, they are applicable in different scenarios based on the nature of the events and the underlying process generating them.\n",
        "\"\"\"\n",
        "\n",
        "# Q8. Generate a random sample of size 1000 from a Poisson distribution with mean 5 and calculate the sample mean and variance.\n",
        "sample_poisson = np.random.poisson(lam=5, size=1000)\n",
        "sample_mean = np.mean(sample_poisson)\n",
        "sample_variance = np.var(sample_poisson)\n",
        "print(\"Sample Mean:\", sample_mean)\n",
        "print(\"Sample Variance:\", sample_variance)\n",
        "\n",
        "# Q9. How mean and variance are related in Binomial distribution and Poisson distribution?\n",
        "\"\"\"\n",
        "In Binomial distribution:\n",
        "- Mean = n * p\n",
        "- Variance = n * p * (1 - p)\n",
        "where n is the number of trials and p is the probability of success.\n",
        "\n",
        "In Poisson distribution:\n",
        "- Mean = Variance = λ (the mean rate of occurrence)\n",
        "\"\"\"\n",
        "\n",
        "# Q10. In normal distribution with respect to mean position, where does the least frequent data appear?\n",
        "\"\"\"\n",
        "In a normal distribution, the least frequent data appears at the extreme ends of the distribution, farthest away from the mean. These are the tails of the distribution, where the probability density is lower compared to the central region around the mean.\n",
        "\"\"\"\n"
      ],
      "metadata": {
        "colab": {
          "base_uri": "https://localhost:8080/",
          "height": 542
        },
        "id": "mjL3NxWSXXd7",
        "outputId": "159ebd36-d86b-4ce9-b7a1-9691fd473520"
      },
      "execution_count": 14,
      "outputs": [
        {
          "output_type": "display_data",
          "data": {
            "text/plain": [
              "<Figure size 640x480 with 1 Axes>"
            ],
            "image/png": "[encoded data removed]"
          },
          "metadata": {}
        },
        {
          "output_type": "stream",
          "name": "stdout",
          "text": [
            "Sample Mean: 4.934\n",
            "Sample Variance: 4.715644\n"
          ]
        },
        {
          "output_type": "execute_result",
          "data": {
            "text/plain": [
              "'\\nIn a normal distribution, the least frequent data appears at the extreme ends of the distribution, farthest away from the mean. These are the tails of the distribution, where the probability density is lower compared to the central region around the mean.\\n'"
            ],
            "application/vnd.google.colaboratory.intrinsic+json": {
              "type": "string"
            }
          },
          "metadata": {},
          "execution_count": 14
        }
      ]
    },
    {
      "cell_type": "code",
      "source": [],
      "metadata": {
        "id": "Ll6LZhHDYQeW"
      },
      "execution_count": null,
      "outputs": []
    }
  ]
}